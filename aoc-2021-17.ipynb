{
 "cells": [
  {
   "cell_type": "code",
   "execution_count": 13,
   "metadata": {},
   "outputs": [],
   "source": [
    "INPUT = \"\"\"target area: x=241..273, y=-97..-63\"\"\""
   ]
  },
  {
   "cell_type": "code",
   "execution_count": 10,
   "metadata": {},
   "outputs": [],
   "source": [
    "# SAMPLE\n",
    "\n",
    "INPUT = \"\"\"target area: x=20..30, y=-10..-5\"\"\""
   ]
  },
  {
   "cell_type": "code",
   "execution_count": 15,
   "metadata": {},
   "outputs": [
    {
     "name": "stdout",
     "output_type": "stream",
     "text": [
      "ANSWER 4656\n"
     ]
    }
   ],
   "source": [
    "# Part 1\n",
    "\n",
    "(x_part, y_part) = INPUT.split(\", \")\n",
    "x_part = x_part.split('=')[1]\n",
    "y_part = y_part.split('=')[1]\n",
    "\n",
    "(target_x_min, target_x_max) = [int(x) for x in x_part.split(\"..\")]\n",
    "(target_y_min, target_y_max) = [int(x) for x in y_part.split(\"..\")]\n",
    "\n",
    "highest_successful_point = target_y_min\n",
    "\n",
    "for initial_x in range(target_x_max):\n",
    "    for initial_y in range(target_y_min, target_x_max):\n",
    "        position_x = 0\n",
    "        position_y = 0\n",
    "        (x, y) = (initial_x, initial_y)\n",
    "        high_point = 0\n",
    "        landed = False\n",
    "        while True:\n",
    "            next_position_x = position_x + x\n",
    "            next_position_y = position_y + y\n",
    "            if next_position_y > high_point:\n",
    "                high_point = next_position_y\n",
    "            if target_x_min <= next_position_x <= target_x_max and \\\n",
    "                target_y_min <= next_position_y <= target_y_max:\n",
    "                    landed = True\n",
    "                    break\n",
    "            elif next_position_x > target_x_max or \\\n",
    "                next_position_y < target_y_min:\n",
    "                break\n",
    "            else:\n",
    "                position_x, position_y = next_position_x, next_position_y\n",
    "                if x > 0:\n",
    "                    x -= 1\n",
    "                elif x < 0:\n",
    "                    x += 1\n",
    "                y -= 1\n",
    "        if landed:\n",
    "            # print (\"LANDED!\", initial_x, initial_y)\n",
    "            if high_point > highest_successful_point:\n",
    "                # print (\"NEW HIGH POINT\", high_point)\n",
    "                highest_successful_point = high_point\n",
    "\n",
    "print (\"ANSWER\", highest_successful_point)\n",
    "\n"
   ]
  },
  {
   "cell_type": "code",
   "execution_count": 16,
   "metadata": {},
   "outputs": [
    {
     "name": "stdout",
     "output_type": "stream",
     "text": [
      "ANSWER 1908\n"
     ]
    }
   ],
   "source": [
    "# Part 2\n",
    "\n",
    "(x_part, y_part) = INPUT.split(\", \")\n",
    "x_part = x_part.split('=')[1]\n",
    "y_part = y_part.split('=')[1]\n",
    "\n",
    "(target_x_min, target_x_max) = [int(x) for x in x_part.split(\"..\")]\n",
    "(target_y_min, target_y_max) = [int(x) for x in y_part.split(\"..\")]\n",
    "\n",
    "successful = []\n",
    "\n",
    "for initial_x in range(target_x_max + 1):\n",
    "    for initial_y in range(target_y_min - 1, target_x_max + 1):\n",
    "        position_x = 0\n",
    "        position_y = 0\n",
    "        (x, y) = (initial_x, initial_y)\n",
    "        landed = False\n",
    "        while True:\n",
    "            next_position_x = position_x + x\n",
    "            next_position_y = position_y + y\n",
    "            if next_position_y > high_point:\n",
    "                high_point = next_position_y\n",
    "            if target_x_min <= next_position_x <= target_x_max and \\\n",
    "                target_y_min <= next_position_y <= target_y_max:\n",
    "                    landed = True\n",
    "                    break\n",
    "            elif next_position_x > target_x_max or \\\n",
    "                next_position_y < target_y_min:\n",
    "                break\n",
    "            else:\n",
    "                position_x, position_y = next_position_x, next_position_y\n",
    "                if x > 0:\n",
    "                    x -= 1\n",
    "                elif x < 0:\n",
    "                    x += 1\n",
    "                y -= 1\n",
    "        if landed:\n",
    "            # print (\"LANDED!\", initial_x, initial_y)\n",
    "            successful.append((initial_x, initial_y))\n",
    "\n",
    "print (\"ANSWER\", len(successful))\n",
    "\n"
   ]
  },
  {
   "cell_type": "code",
   "execution_count": null,
   "metadata": {},
   "outputs": [],
   "source": []
  }
 ],
 "metadata": {
  "interpreter": {
   "hash": "03b60af1040df17b1d91f27cb26a30ffcd49795ffb41b4514df56465b617e45e"
  },
  "kernelspec": {
   "display_name": "Python 3.10.0 64-bit",
   "language": "python",
   "name": "python3"
  },
  "language_info": {
   "codemirror_mode": {
    "name": "ipython",
    "version": 3
   },
   "file_extension": ".py",
   "mimetype": "text/x-python",
   "name": "python",
   "nbconvert_exporter": "python",
   "pygments_lexer": "ipython3",
   "version": "3.10.0"
  },
  "orig_nbformat": 4
 },
 "nbformat": 4,
 "nbformat_minor": 2
}
