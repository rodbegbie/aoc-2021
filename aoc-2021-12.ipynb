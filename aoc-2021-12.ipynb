{
 "cells": [
  {
   "cell_type": "code",
   "execution_count": 17,
   "metadata": {},
   "outputs": [],
   "source": [
    "INPUT = \"\"\"start-qs\n",
    "qs-jz\n",
    "start-lm\n",
    "qb-QV\n",
    "QV-dr\n",
    "QV-end\n",
    "ni-qb\n",
    "VH-jz\n",
    "qs-lm\n",
    "qb-end\n",
    "dr-fu\n",
    "jz-lm\n",
    "start-VH\n",
    "QV-jz\n",
    "VH-qs\n",
    "lm-dr\n",
    "dr-ni\n",
    "ni-jz\n",
    "lm-QV\n",
    "jz-dr\n",
    "ni-end\n",
    "VH-dr\n",
    "VH-ni\n",
    "qb-HE\"\"\""
   ]
  },
  {
   "cell_type": "code",
   "execution_count": 12,
   "metadata": {},
   "outputs": [],
   "source": [
    "# SAMPLE\n",
    "\n",
    "INPUT = \"\"\"start-A\n",
    "start-b\n",
    "A-c\n",
    "A-b\n",
    "b-d\n",
    "A-end\n",
    "b-end\n",
    "\"\"\""
   ]
  },
  {
   "cell_type": "code",
   "execution_count": null,
   "metadata": {},
   "outputs": [],
   "source": [
    "# MIDDLE SAMPLE\n",
    "\n",
    "INPUT = \"\"\"dc-end\n",
    "HN-start\n",
    "start-kj\n",
    "dc-start\n",
    "dc-HN\n",
    "LN-dc\n",
    "HN-end\n",
    "kj-sa\n",
    "kj-HN\n",
    "kj-dc\"\"\""
   ]
  },
  {
   "cell_type": "code",
   "execution_count": 15,
   "metadata": {},
   "outputs": [],
   "source": [
    "# BIG SAMPLE\n",
    "\n",
    "INPUT = \"\"\"fs-end\n",
    "he-DX\n",
    "fs-he\n",
    "start-DX\n",
    "pj-DX\n",
    "end-zg\n",
    "zg-sl\n",
    "zg-pj\n",
    "pj-he\n",
    "RW-he\n",
    "fs-DX\n",
    "pj-RW\n",
    "zg-RW\n",
    "start-pj\n",
    "he-WI\n",
    "zg-he\n",
    "pj-fs\n",
    "start-RW\n",
    "\"\"\""
   ]
  },
  {
   "cell_type": "code",
   "execution_count": 11,
   "metadata": {},
   "outputs": [
    {
     "name": "stdout",
     "output_type": "stream",
     "text": [
      "PATHS defaultdict(<class 'list'>, {'start': ['qs', 'lm', 'VH'], 'qs': ['start', 'jz', 'lm', 'VH'], 'jz': ['qs', 'VH', 'lm', 'QV', 'ni', 'dr'], 'lm': ['start', 'qs', 'jz', 'dr', 'QV'], 'qb': ['QV', 'ni', 'end', 'HE'], 'QV': ['qb', 'dr', 'end', 'jz', 'lm'], 'dr': ['QV', 'fu', 'lm', 'ni', 'jz', 'VH'], 'end': ['QV', 'qb', 'ni'], 'ni': ['qb', 'dr', 'jz', 'end', 'VH'], 'VH': ['jz', 'start', 'qs', 'dr', 'ni'], 'fu': ['dr'], 'HE': ['qb']})\n",
      "ANSWER 5178\n"
     ]
    }
   ],
   "source": [
    "# Part 1\n",
    "from copy import copy\n",
    "from collections import defaultdict\n",
    "paths = defaultdict(list)\n",
    "\n",
    "for (x,y) in [line.split(\"-\") for line in INPUT.splitlines()]:\n",
    "    paths[x].append(y)\n",
    "    paths[y].append(x)\n",
    "\n",
    "print (\"PATHS\", paths)\n",
    "\n",
    "ended = 0\n",
    "def find_paths(node, seen):\n",
    "    global ended\n",
    "    # print (\"AT\", node)\n",
    "    if node.lower() == node:\n",
    "        # print (\"NOW SEEN\", node)\n",
    "        seen.add(node)\n",
    "    for next_node in paths[node]:\n",
    "        # print (\"CONSIDER\", next_node)\n",
    "        if next_node in seen:\n",
    "            # print (\"SEEN BEFORE\", next_node)\n",
    "            continue\n",
    "        elif next_node == \"end\":\n",
    "            # print (\"END\", next_node)\n",
    "            ended += 1\n",
    "        else:\n",
    "            # print (\"DIGGING INTO\", next_node)\n",
    "            find_paths(next_node, copy(seen))\n",
    "\n",
    "\n",
    "find_paths(\"start\", set())\n",
    "print (\"ANSWER\", ended)"
   ]
  },
  {
   "cell_type": "code",
   "execution_count": 18,
   "metadata": {},
   "outputs": [
    {
     "name": "stdout",
     "output_type": "stream",
     "text": [
      "PATHS defaultdict(<class 'list'>, {'start': ['qs', 'lm', 'VH'], 'qs': ['start', 'jz', 'lm', 'VH'], 'jz': ['qs', 'VH', 'lm', 'QV', 'ni', 'dr'], 'lm': ['start', 'qs', 'jz', 'dr', 'QV'], 'qb': ['QV', 'ni', 'end', 'HE'], 'QV': ['qb', 'dr', 'end', 'jz', 'lm'], 'dr': ['QV', 'fu', 'lm', 'ni', 'jz', 'VH'], 'end': ['QV', 'qb', 'ni'], 'ni': ['qb', 'dr', 'jz', 'end', 'VH'], 'VH': ['jz', 'start', 'qs', 'dr', 'ni'], 'fu': ['dr'], 'HE': ['qb']})\n",
      "ANSWER 130094\n"
     ]
    }
   ],
   "source": [
    "# Part 2\n",
    "from copy import copy\n",
    "from collections import defaultdict\n",
    "paths = defaultdict(list)\n",
    "\n",
    "for (x,y) in [line.split(\"-\") for line in INPUT.splitlines()]:\n",
    "    paths[x].append(y)\n",
    "    paths[y].append(x)\n",
    "\n",
    "print (\"PATHS\", paths)\n",
    "\n",
    "ended = 0\n",
    "def find_paths(node, seen, done2):\n",
    "    global ended\n",
    "    # print (\"AT\", node)\n",
    "    if node.lower() == node:\n",
    "        # print (\"NOW SEEN\", node)\n",
    "        seen.add(node)\n",
    "    for next_node in paths[node]:\n",
    "        # print (\"CONSIDER\", next_node)\n",
    "        if next_node in seen:\n",
    "            if not done2 and next_node != \"start\":\n",
    "                find_paths(next_node, copy(seen), True)\n",
    "                # print (\"SEEN BEFORE\", next_node)\n",
    "            else:\n",
    "                continue\n",
    "        elif next_node == \"end\":\n",
    "            # print (\"END\", next_node)\n",
    "            ended += 1\n",
    "        else:\n",
    "            # print (\"DIGGING INTO\", next_node)\n",
    "            find_paths(next_node, copy(seen), done2)\n",
    "\n",
    "\n",
    "find_paths(\"start\", set(), False)\n",
    "print (\"ANSWER\", ended)"
   ]
  },
  {
   "cell_type": "code",
   "execution_count": null,
   "metadata": {},
   "outputs": [],
   "source": []
  }
 ],
 "metadata": {
  "interpreter": {
   "hash": "03b60af1040df17b1d91f27cb26a30ffcd49795ffb41b4514df56465b617e45e"
  },
  "kernelspec": {
   "display_name": "Python 3.10.0 64-bit",
   "language": "python",
   "name": "python3"
  },
  "language_info": {
   "codemirror_mode": {
    "name": "ipython",
    "version": 3
   },
   "file_extension": ".py",
   "mimetype": "text/x-python",
   "name": "python",
   "nbconvert_exporter": "python",
   "pygments_lexer": "ipython3",
   "version": "3.10.0"
  },
  "orig_nbformat": 4
 },
 "nbformat": 4,
 "nbformat_minor": 2
}
