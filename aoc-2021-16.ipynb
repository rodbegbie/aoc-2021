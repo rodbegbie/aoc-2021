{
 "cells": [
  {
   "cell_type": "code",
   "execution_count": 111,
   "metadata": {},
   "outputs": [],
   "source": [
    "INPUT = \"A20D6CE8F00033925A95338B6549C0149E3398DE75817200992531E25F005A18C8C8C0001849FDD43629C293004B001059363936796973BF3699CFF4C6C0068C9D72A1231C339802519F001029C2B9C29700B2573962930298B6B524893ABCCEC2BCD681CC010D005E104EFC7246F5EE7328C22C8400424C2538039239F720E3339940263A98029600A80021B1FE34C69100760B41C86D290A8E180256009C9639896A66533E459148200D5AC0149D4E9AACEF0F66B42696194031F000BCE7002D80A8D60277DC00B20227C807E8001CE0C00A7002DC00F300208044E000E69C00B000974C00C1003DC0089B90C1006F5E009CFC87E7E43F3FBADE77BE14C8032C9350D005662754F9BDFA32D881004B12B1964D7000B689B03254564414C016B004A6D3A6BD0DC61E2C95C6E798EA8A4600B5006EC0008542D8690B80010D89F1461B4F535296B6B305A7A4264029580021D1122146900043A0EC7884200085C598CF064C0129CFD8868024592FEE9D7692FEE9D735009E6BBECE0826842730CD250EEA49AA00C4F4B9C9D36D925195A52C4C362EB8043359AE221733DB4B14D9DCE6636ECE48132E040182D802F30AF22F131087EDD9A20804D27BEFF3FD16C8F53A5B599F4866A78D7898C0139418D00424EBB459915200C0BC01098B527C99F4EB54CF0450014A95863BDD3508038600F44C8B90A0801098F91463D1803D07634433200AB68015299EBF4CF5F27F05C600DCEBCCE3A48BC1008B1801AA0803F0CA1AC6200043A2C4558A710E364CC2D14920041E7C9A7040402E987492DE5327CF66A6A93F8CFB4BE60096006E20008543A8330780010E8931C20DCF4BFF13000A424711C4FB32999EE33351500A66E8492F185AB32091F1841C91BE2FDC53C4E80120C8C67EA7734D2448891804B2819245334372CBB0F080480E00D4C0010E82F102360803B1FA2146D963C300BA696A694A501E589A6C80\""
   ]
  },
  {
   "cell_type": "code",
   "execution_count": 105,
   "metadata": {},
   "outputs": [],
   "source": [
    "# SAMPLE\n",
    "# INPUT = \"D2FE28\" # 2021\n",
    "# INPUT = \"8A004A801A8002F478\" # 16\n",
    "INPUT = \"620080001611562C8802118E34\" # 12\n",
    "# INPUT = \"C0015000016115A2E0802F182340\" # 23\n",
    "# INPUT = \"A0016C880162017C3686B18A3D4780\" # 31 \n",
    "# INPUT = \"38006F45291200\" # "
   ]
  },
  {
   "cell_type": "code",
   "execution_count": 117,
   "metadata": {},
   "outputs": [
    {
     "name": "stdout",
     "output_type": "stream",
     "text": [
      "ANSWER 927\n"
     ]
    }
   ],
   "source": [
    "# Part 1\n",
    "\n",
    "input_binary = \"\"\n",
    "for char in INPUT:\n",
    "    input_binary += \"{0:{fill}4b}\".format(int(char, 16), fill='0')\n",
    "\n",
    "# print(\"INPUT\", INPUT, input_binary)\n",
    "\n",
    "def process_packet(bin_str):\n",
    "    # print (\"PROCESSING\", bin_str)\n",
    "    if not \"1\" in bin_str:\n",
    "        return (0,0,0,\"\")\n",
    "\n",
    "    packet_version = int(bin_str[0:3], 2)\n",
    "    packet_type_id = int(bin_str[3:6], 2)\n",
    "    if packet_type_id == 4:\n",
    "        packet_value_str = bin_str[6:]\n",
    "        value_str = \"\"\n",
    "        # print (packet_value_str, value_str)\n",
    "        while packet_value_str[0] == \"1\":\n",
    "            value_str += packet_value_str[1:5]\n",
    "            packet_value_str = packet_value_str[5:]\n",
    "            # print (packet_value_str, value_str)\n",
    "        value_str += packet_value_str[1:5]\n",
    "        remainder = packet_value_str[5:]\n",
    "        # print (\"PACK_VAL_STR\", packet_value_str, \"VAL_STR\", value_str, \"REM\", remainder)\n",
    "        value = int(value_str, 2)\n",
    "        return (packet_version, packet_type_id, value, remainder)\n",
    "    else:\n",
    "        length_packet_bit = int(bin_str[6])\n",
    "        if length_packet_bit: # 11 bits, number of subpackets\n",
    "            # print (\"ELEVEN\", bin_str[7:18])\n",
    "            num_packets = int(bin_str[7:18],2)\n",
    "            remainder = bin_str[18:]\n",
    "            # print (\"NUM_PACKETS\", num_packets, \"REMAINDER\", remainder)\n",
    "            for i in range(num_packets):\n",
    "                (v, t_id, val, remainder) = process_packet(remainder)\n",
    "                packet_version += v\n",
    "            return (packet_version, packet_type_id, 0, remainder)\n",
    "        else: # 15 bits, number of bits that follow\n",
    "            # print (\"FIFTEEN\", bin_str[7:22])\n",
    "            subpacket_length = int(bin_str[7:22], 2)\n",
    "            subpacket = bin_str[22:22 + subpacket_length]\n",
    "            remainder = bin_str[22 + subpacket_length:]\n",
    "            # print (\"SUBPACK_LEN\", subpacket_length, \"PACKET\", subpacket, \"REMAIN\", remainder)\n",
    "            while subpacket:\n",
    "                (v, t_id, val, subpacket) = process_packet(subpacket)\n",
    "                packet_version += v\n",
    "            return (packet_version, packet_type_id, 0, remainder)\n",
    "\n",
    "\n",
    "print (\"ANSWER\", process_packet(input_binary)[0])"
   ]
  },
  {
   "cell_type": "code",
   "execution_count": 109,
   "metadata": {},
   "outputs": [],
   "source": [
    "# SAMPLES\n",
    "\n",
    "# INPUT = \"C200B40A82\" # 3\n",
    "INPUT = \"04005AC33890\" # 54\n",
    "# INPUT = \"880086C3E88112\" # 7\n",
    "# INPUT = \"CE00C43D881120\" # 9\n",
    "# INPUT = \"D8005AC2A8F0\" # 1\n",
    "# INPUT = \"F600BC2D8F\" # 0\n",
    "# INPUT = \"9C005AC2F8F0\" # 0\n",
    "# INPUT = \"9C0141080250320F1802104A08\" # 1"
   ]
  },
  {
   "cell_type": "code",
   "execution_count": 116,
   "metadata": {},
   "outputs": [
    {
     "name": "stdout",
     "output_type": "stream",
     "text": [
      "ANSWER 1725277876501\n"
     ]
    }
   ],
   "source": [
    "# Part 2\n",
    "\n",
    "input_binary = \"\"\n",
    "for char in INPUT:\n",
    "    input_binary += \"{0:{fill}4b}\".format(int(char, 16), fill='0')\n",
    "\n",
    "# print(\"INPUT\", INPUT, input_binary)\n",
    "\n",
    "def process_packet(bin_str):\n",
    "    # print (\"PROCESSING\", bin_str)\n",
    "    if not \"1\" in bin_str:\n",
    "        return (0,0,0,\"\")\n",
    "\n",
    "    packet_version = int(bin_str[0:3], 2)\n",
    "    packet_type_id = int(bin_str[3:6], 2)\n",
    "    # print (\"VERSION\", packet_version, \"TYPE\", packet_type_id)\n",
    "    if packet_type_id == 4:\n",
    "        packet_value_str = bin_str[6:]\n",
    "        value_str = \"\"\n",
    "        # print (packet_value_str, value_str)\n",
    "        while packet_value_str[0] == \"1\":\n",
    "            value_str += packet_value_str[1:5]\n",
    "            packet_value_str = packet_value_str[5:]\n",
    "            # print (packet_value_str, value_str)\n",
    "        value_str += packet_value_str[1:5]\n",
    "        remainder = packet_value_str[5:]\n",
    "        # print (\"PACK_VAL_STR\", packet_value_str, \"VAL_STR\", value_str, \"REM\", remainder)\n",
    "        value = int(value_str, 2)\n",
    "        return (packet_version, packet_type_id, value, remainder)\n",
    "    else:\n",
    "        length_packet_bit = int(bin_str[6])\n",
    "        subpacket_values = []\n",
    "        if length_packet_bit: # 11 bits, number of subpackets\n",
    "            # print (\"ELEVEN\")\n",
    "            num_packets = int(bin_str[7:18], 2)\n",
    "            remainder = bin_str[18:]\n",
    "            # print (\"NUM_PACKETS\", num_packets, \"REMAINDER\", remainder)\n",
    "            \n",
    "            for i in range(num_packets):\n",
    "                (v, t_id, val, remainder) = process_packet(remainder)\n",
    "                subpacket_values.append(val)\n",
    "        else: # 15 bits, number of bits that follow\n",
    "            # print (\"FIFTEEN\")\n",
    "            subpacket_length = int(bin_str[7:22], 2)\n",
    "            subpacket = bin_str[22:22 + subpacket_length]\n",
    "            remainder = bin_str[22 + subpacket_length:]\n",
    "            # print (\"SUBPACK_LEN\", subpacket_length, \"PACKET\", subpacket, \"REMAIN\", remainder)\n",
    "            while \"1\" in subpacket:\n",
    "                (v, t_id, val, subpacket) = process_packet(subpacket)\n",
    "                subpacket_values.append(val)\n",
    "        \n",
    "        value = 0\n",
    "        # print (\"TYPE\", packet_type_id, \"SUBPACK\", subpacket_values)\n",
    "        if packet_type_id == 0:\n",
    "            value = sum(subpacket_values)\n",
    "        elif packet_type_id == 1:\n",
    "            value = 1\n",
    "            for p in subpacket_values:\n",
    "                value *= p\n",
    "        elif packet_type_id == 2:\n",
    "            value = min(subpacket_values)\n",
    "        elif packet_type_id == 3:\n",
    "            value = max(subpacket_values)\n",
    "        elif packet_type_id == 5:\n",
    "            value = value = 1 if subpacket_values[0] > subpacket_values[1] else 0\n",
    "        elif packet_type_id == 6:\n",
    "            value = value = 1 if subpacket_values[0] < subpacket_values[1] else 0\n",
    "        elif packet_type_id == 7:\n",
    "            value = value = 1 if subpacket_values[0] == subpacket_values[1] else 0\n",
    "\n",
    "        # print (\"TYPE\", packet_type_id, \"SUBPACK\", subpacket_values, value)\n",
    "\n",
    "        return (packet_version, packet_type_id, value, remainder)\n",
    "\n",
    "\n",
    "print (\"ANSWER\", process_packet(input_binary)[2])"
   ]
  },
  {
   "cell_type": "code",
   "execution_count": null,
   "metadata": {},
   "outputs": [],
   "source": []
  }
 ],
 "metadata": {
  "interpreter": {
   "hash": "03b60af1040df17b1d91f27cb26a30ffcd49795ffb41b4514df56465b617e45e"
  },
  "kernelspec": {
   "display_name": "Python 3.10.0 64-bit",
   "language": "python",
   "name": "python3"
  },
  "language_info": {
   "codemirror_mode": {
    "name": "ipython",
    "version": 3
   },
   "file_extension": ".py",
   "mimetype": "text/x-python",
   "name": "python",
   "nbconvert_exporter": "python",
   "pygments_lexer": "ipython3",
   "version": "3.10.0"
  },
  "orig_nbformat": 4
 },
 "nbformat": 4,
 "nbformat_minor": 2
}
